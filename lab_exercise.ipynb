{
 "cells": [
  {
   "cell_type": "code",
   "execution_count": null,
   "metadata": {},
   "outputs": [],
   "source": [
    "import random\n",
    "\n",
    "MIN = 1\n",
    "MAX = 10\n",
    "\n",
    "\n",
    "def within_range(x, min_bound, max_bound):\n",
    "    return min_bound <= x and x <= max_bound\n",
    "\n",
    "def a_simple_program(name):\n",
    "    topics = [\"food\", \"color\", \"tv show\", \"video game\", \"season\", \"holiday\", \"number\", \"book\", \"sport\", \"movie\"]\n",
    "    response = input(\"Pick a random number between {} and {}\".format(MIN, MAX))\n",
    "    \n",
    "    while (response.isdigit() == False or within_range(int(response), MIN, MAX) == False):\n",
    "        response = input(\"Pick a random number from 1 to 10: \")\n",
    "    \n",
    "    random.shuffle(topics)\n",
    "    topic = topics[int(response) - 1]\n",
    "    response = input(\"Enter a favorite {} for {}: \".format(topic, name))\n",
    "    print(\"{}'s favorite {} is {}.\".format(name, topic, response))\n",
    "    \n",
    "\n",
    "\n",
    "name = input(\"Enter the your name: \")                            \n",
    "a_simple_program(name)"
   ]
  }
 ],
 "metadata": {
  "kernelspec": {
   "display_name": "Python 3",
   "language": "python",
   "name": "python3"
  },
  "language_info": {
   "codemirror_mode": {
    "name": "ipython",
    "version": 3
   },
   "file_extension": ".py",
   "mimetype": "text/x-python",
   "name": "python",
   "nbconvert_exporter": "python",
   "pygments_lexer": "ipython3",
   "version": "3.8.3"
  }
 },
 "nbformat": 4,
 "nbformat_minor": 4
}

